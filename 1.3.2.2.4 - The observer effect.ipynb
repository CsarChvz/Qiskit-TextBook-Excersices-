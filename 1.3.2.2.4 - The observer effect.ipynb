{
 "cells": [
  {
   "cell_type": "code",
   "execution_count": 26,
   "metadata": {},
   "outputs": [],
   "source": [
    "from qiskit import QuantumCircuit, assemble, Aer\n",
    "from qiskit.visualization import plot_histogram\n",
    "from math import sqrt, pi"
   ]
  },
  {
   "cell_type": "code",
   "execution_count": 33,
   "metadata": {},
   "outputs": [
    {
     "data": {
      "text/plain": [
       "' 1i/sqrt(2) 1/sqrt(2) '"
      ]
     },
     "execution_count": 33,
     "metadata": {},
     "output_type": "execute_result"
    }
   ],
   "source": [
    "qc = QuantumCircuit(1) # Definimos el circuito cuántico con un solo qubit\n",
    "initial_state = [0+1.j/sqrt(2), 1/sqrt(2)+0.j]  # Hacemos un vector en una lista para poder inicialiazr el qubit, seria asi\n",
    "\"\"\" 1i/sqrt(2) 1/sqrt(2) \"\"\""
   ]
  },
  {
   "cell_type": "code",
   "execution_count": 40,
   "metadata": {},
   "outputs": [
    {
     "data": {
      "text/html": [
       "<pre style=\"word-wrap: normal;white-space: pre;background: #fff0;line-height: 1.1;font-family: &quot;Courier New&quot;,Courier,monospace\">     ┌──────────────────────────────┐┌──────────────────────────────┐\n",
       "q_0: ┤ initialize(0.70711j,0.70711) ├┤ initialize(0.70711j,0.70711) ├\n",
       "     └──────────────────────────────┘└──────────────────────────────┘</pre>"
      ],
      "text/plain": [
       "     ┌──────────────────────────────┐┌──────────────────────────────┐\n",
       "q_0: ┤ initialize(0.70711j,0.70711) ├┤ initialize(0.70711j,0.70711) ├\n",
       "     └──────────────────────────────┘└──────────────────────────────┘"
      ]
     },
     "execution_count": 40,
     "metadata": {},
     "output_type": "execute_result"
    }
   ],
   "source": [
    "qc.initialize(initial_state, 0)\n",
    "qc.draw()"
   ]
  },
  {
   "cell_type": "code",
   "execution_count": 41,
   "metadata": {},
   "outputs": [
    {
     "data": {
      "text/plain": [
       "'El efecto observador\\nhttps://ponirevo.com/the-observer-effect-in-quantum-physics/\\nhttps://youtu.be/Bq69-MI9TA0\\n'"
      ]
     },
     "execution_count": 41,
     "metadata": {},
     "output_type": "execute_result"
    }
   ],
   "source": [
    "\"\"\"El efecto observador\n",
    "https://ponirevo.com/the-observer-effect-in-quantum-physics/\n",
    "https://youtu.be/Bq69-MI9TA0\n",
    "\"\"\""
   ]
  },
  {
   "cell_type": "code",
   "execution_count": 42,
   "metadata": {},
   "outputs": [],
   "source": [
    "#Ya inicializado nuestro estado del qubit, podemos verificar usando ql simulador"
   ]
  },
  {
   "cell_type": "code",
   "execution_count": 43,
   "metadata": {},
   "outputs": [
    {
     "ename": "AttributeError",
     "evalue": "'AerJob' object has no attribute 'get_statevector'",
     "output_type": "error",
     "traceback": [
      "\u001b[0;31m---------------------------------------------------------------------------\u001b[0m",
      "\u001b[0;31mAttributeError\u001b[0m                            Traceback (most recent call last)",
      "\u001b[0;32m<ipython-input-43-7af0041c18ae>\u001b[0m in \u001b[0;36m<module>\u001b[0;34m\u001b[0m\n\u001b[1;32m      1\u001b[0m \u001b[0mqobj\u001b[0m \u001b[0;34m=\u001b[0m \u001b[0massemble\u001b[0m\u001b[0;34m(\u001b[0m\u001b[0mqc\u001b[0m\u001b[0;34m)\u001b[0m\u001b[0;34m\u001b[0m\u001b[0;34m\u001b[0m\u001b[0m\n\u001b[0;32m----> 2\u001b[0;31m \u001b[0mstate\u001b[0m \u001b[0;34m=\u001b[0m \u001b[0msvsim\u001b[0m\u001b[0;34m.\u001b[0m\u001b[0mrun\u001b[0m\u001b[0;34m(\u001b[0m\u001b[0mqobj\u001b[0m\u001b[0;34m)\u001b[0m\u001b[0;34m.\u001b[0m\u001b[0mget_statevector\u001b[0m\u001b[0;34m(\u001b[0m\u001b[0;34m)\u001b[0m\u001b[0;34m\u001b[0m\u001b[0;34m\u001b[0m\u001b[0m\n\u001b[0m\u001b[1;32m      3\u001b[0m \u001b[0mprint\u001b[0m\u001b[0;34m(\u001b[0m\u001b[0;34m\"Estado del Qubit: \"\u001b[0m\u001b[0;34m+\u001b[0m \u001b[0mstr\u001b[0m\u001b[0;34m(\u001b[0m\u001b[0mstate\u001b[0m\u001b[0;34m)\u001b[0m\u001b[0;34m)\u001b[0m\u001b[0;34m\u001b[0m\u001b[0;34m\u001b[0m\u001b[0m\n",
      "\u001b[0;31mAttributeError\u001b[0m: 'AerJob' object has no attribute 'get_statevector'"
     ]
    }
   ],
   "source": [
    "qobj = assemble(qc)\n",
    "state = svsim.run(qobj).get_statevector()\n",
    "print(\"Estado del Qubit: \"+ str(state))"
   ]
  },
  {
   "cell_type": "code",
   "execution_count": null,
   "metadata": {},
   "outputs": [],
   "source": []
  },
  {
   "cell_type": "code",
   "execution_count": null,
   "metadata": {},
   "outputs": [],
   "source": []
  }
 ],
 "metadata": {
  "kernelspec": {
   "display_name": "Python 3",
   "language": "python",
   "name": "python3"
  },
  "language_info": {
   "codemirror_mode": {
    "name": "ipython",
    "version": 3
   },
   "file_extension": ".py",
   "mimetype": "text/x-python",
   "name": "python",
   "nbconvert_exporter": "python",
   "pygments_lexer": "ipython3",
   "version": "3.8.8"
  }
 },
 "nbformat": 4,
 "nbformat_minor": 2
}
