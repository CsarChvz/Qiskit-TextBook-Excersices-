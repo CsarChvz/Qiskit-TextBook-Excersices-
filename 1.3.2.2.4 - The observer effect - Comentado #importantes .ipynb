{
 "cells": [
  {
   "cell_type": "code",
   "execution_count": 4,
   "id": "f7513197",
   "metadata": {},
   "outputs": [],
   "source": [
    "from qiskit import QuantumCircuit, assemble, Aer\n",
    "from qiskit.visualization import plot_histogram\n",
    "from math import sqrt, pi"
   ]
  },
  {
   "cell_type": "code",
   "execution_count": 5,
   "id": "dcf3f221",
   "metadata": {},
   "outputs": [],
   "source": [
    "svsim = Aer.get_backend('statevector_simulator') # Le decimos a qiskit como simular nuestro circuito"
   ]
  },
  {
   "cell_type": "code",
   "execution_count": 6,
   "id": "6a509b2f",
   "metadata": {},
   "outputs": [
    {
     "data": {
      "text/html": [
       "<pre style=\"word-wrap: normal;white-space: pre;background: #fff0;line-height: 1.1;font-family: &quot;Courier New&quot;,Courier,monospace\">     ┌──────────────────────────────┐\n",
       "q_0: ┤ initialize(0.70711j,0.70711) ├\n",
       "     └──────────────────────────────┘</pre>"
      ],
      "text/plain": [
       "     ┌──────────────────────────────┐\n",
       "q_0: ┤ initialize(0.70711j,0.70711) ├\n",
       "     └──────────────────────────────┘"
      ]
     },
     "execution_count": 6,
     "metadata": {},
     "output_type": "execute_result"
    }
   ],
   "source": [
    "qc = QuantumCircuit(1) # We are redefining qc\n",
    "initial_state = [0.+1.j/sqrt(2),1/sqrt(2)+0.j] #Ponemos el estado con el cual queremos iniciar el qubit en una lista\n",
    "qc.initialize(initial_state, 0) #Inicializamos con el metodo \"initialize\" y en sus parametros colocamos la lista y el numero del qubit que queremos inicializar con ese estado\n",
    "qc.draw() #Dibujamos"
   ]
  },
  {
   "cell_type": "code",
   "execution_count": 7,
   "id": "68e9ee94",
   "metadata": {},
   "outputs": [
    {
     "name": "stdout",
     "output_type": "stream",
     "text": [
      "Qubit State = [0.        +0.70710678j 0.70710678+0.j        ]\n"
     ]
    }
   ],
   "source": [
    "qobj = assemble(qc) #Ensamblamos el circuito en una variable\n",
    "state = svsim.run(qobj).result().get_statevector() #Guardamos el estado utilizando la variable de ensamble, despues obtenemos los resultadosy el vector que tienen los qubits\n",
    "print(\"Qubit State = \" + str(state))"
   ]
  },
  {
   "cell_type": "code",
   "execution_count": 8,
   "id": "586c21a9",
   "metadata": {},
   "outputs": [
    {
     "data": {
      "text/html": [
       "<pre style=\"word-wrap: normal;white-space: pre;background: #fff0;line-height: 1.1;font-family: &quot;Courier New&quot;,Courier,monospace\">        ┌──────────────────────────────┐ ░ ┌─┐\n",
       "   q_0: ┤ initialize(0.70711j,0.70711) ├─░─┤M├\n",
       "        └──────────────────────────────┘ ░ └╥┘\n",
       "meas: 1/════════════════════════════════════╩═\n",
       "                                            0 </pre>"
      ],
      "text/plain": [
       "        ┌──────────────────────────────┐ ░ ┌─┐\n",
       "   q_0: ┤ initialize(0.70711j,0.70711) ├─░─┤M├\n",
       "        └──────────────────────────────┘ ░ └╥┘\n",
       "meas: 1/════════════════════════════════════╩═\n",
       "                                            0 "
      ]
     },
     "execution_count": 8,
     "metadata": {},
     "output_type": "execute_result"
    }
   ],
   "source": [
    "qc.measure_all() #Ponemos para medir el qubit \n",
    "qc.draw()"
   ]
  },
  {
   "cell_type": "code",
   "execution_count": 14,
   "id": "d64f00b1",
   "metadata": {},
   "outputs": [
    {
     "data": {
      "image/png": "[encoded data removed]",
      "text/plain": [
       "<Figure size 504x360 with 1 Axes>"
      ]
     },
     "execution_count": 14,
     "metadata": {},
     "output_type": "execute_result"
    }
   ],
   "source": [
    "qobj = assemble(qc) #Ensamblamos el circuito en una variable\n",
    "state = svsim.run(qobj).result().get_statevector() #Guardamos el estado utilizando la variable de ensamble, despues obtenemos los resultadosy el vector que tienen los qubits\n",
    "count = svsim.run(qobj).result().get_counts()\n",
    "plot_histogram(count)"
   ]
  },
  {
   "cell_type": "code",
   "execution_count": 15,
   "id": "2d1d4922",
   "metadata": {},
   "outputs": [
    {
     "name": "stdout",
     "output_type": "stream",
     "text": [
      "Estado del Qubit Medido[0.+0.j 1.+0.j]\n"
     ]
    }
   ],
   "source": [
    "print(\"Estado del Qubit Medido\"+ str(state))"
   ]
  },
  {
   "cell_type": "code",
   "execution_count": null,
   "id": "b3741c7b",
   "metadata": {},
   "outputs": [],
   "source": []
  }
 ],
 "metadata": {
  "kernelspec": {
   "display_name": "Python 3",
   "language": "python",
   "name": "python3"
  },
  "language_info": {
   "codemirror_mode": {
    "name": "ipython",
    "version": 3
   },
   "file_extension": ".py",
   "mimetype": "text/x-python",
   "name": "python",
   "nbconvert_exporter": "python",
   "pygments_lexer": "ipython3",
   "version": "3.8.8"
  }
 },
 "nbformat": 4,
 "nbformat_minor": 5
}
