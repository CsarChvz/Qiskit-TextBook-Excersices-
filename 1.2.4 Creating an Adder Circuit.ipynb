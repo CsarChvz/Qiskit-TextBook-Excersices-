{
 "cells": [
  {
   "cell_type": "code",
   "execution_count": 4,
   "id": "1aa635e5",
   "metadata": {},
   "outputs": [],
   "source": [
    "from qiskit import QuantumCircuit, assemble, Aer\n",
    "from qiskit.visualization import plot_histogram"
   ]
  },
  {
   "cell_type": "code",
   "execution_count": 7,
   "id": "a9f578cd",
   "metadata": {},
   "outputs": [],
   "source": [
    "n  =  8 \n",
    "n_q  =  n \n",
    "n_b  =  n \n",
    "qc_output  =  QuantumCircuit ( n_q , n_b )"
   ]
  },
  {
   "cell_type": "code",
   "execution_count": 8,
   "id": "3b5b159e",
   "metadata": {},
   "outputs": [],
   "source": [
    "for j in range(n):\n",
    "    qc_output.measure(j, j)"
   ]
  },
  {
   "cell_type": "code",
   "execution_count": 9,
   "id": "f6a50011",
   "metadata": {},
   "outputs": [
    {
     "data": {
      "text/html": [
       "<pre style=\"word-wrap: normal;white-space: pre;background: #fff0;line-height: 1.1;font-family: &quot;Courier New&quot;,Courier,monospace\">     ┌─┐                     \n",
       "q_0: ┤M├─────────────────────\n",
       "     └╥┘┌─┐                  \n",
       "q_1: ─╫─┤M├──────────────────\n",
       "      ║ └╥┘┌─┐               \n",
       "q_2: ─╫──╫─┤M├───────────────\n",
       "      ║  ║ └╥┘┌─┐            \n",
       "q_3: ─╫──╫──╫─┤M├────────────\n",
       "      ║  ║  ║ └╥┘┌─┐         \n",
       "q_4: ─╫──╫──╫──╫─┤M├─────────\n",
       "      ║  ║  ║  ║ └╥┘┌─┐      \n",
       "q_5: ─╫──╫──╫──╫──╫─┤M├──────\n",
       "      ║  ║  ║  ║  ║ └╥┘┌─┐   \n",
       "q_6: ─╫──╫──╫──╫──╫──╫─┤M├───\n",
       "      ║  ║  ║  ║  ║  ║ └╥┘┌─┐\n",
       "q_7: ─╫──╫──╫──╫──╫──╫──╫─┤M├\n",
       "      ║  ║  ║  ║  ║  ║  ║ └╥┘\n",
       "c: 8/═╩══╩══╩══╩══╩══╩══╩══╩═\n",
       "      0  1  2  3  4  5  6  7 </pre>"
      ],
      "text/plain": [
       "     ┌─┐                     \n",
       "q_0: ┤M├─────────────────────\n",
       "     └╥┘┌─┐                  \n",
       "q_1: ─╫─┤M├──────────────────\n",
       "      ║ └╥┘┌─┐               \n",
       "q_2: ─╫──╫─┤M├───────────────\n",
       "      ║  ║ └╥┘┌─┐            \n",
       "q_3: ─╫──╫──╫─┤M├────────────\n",
       "      ║  ║  ║ └╥┘┌─┐         \n",
       "q_4: ─╫──╫──╫──╫─┤M├─────────\n",
       "      ║  ║  ║  ║ └╥┘┌─┐      \n",
       "q_5: ─╫──╫──╫──╫──╫─┤M├──────\n",
       "      ║  ║  ║  ║  ║ └╥┘┌─┐   \n",
       "q_6: ─╫──╫──╫──╫──╫──╫─┤M├───\n",
       "      ║  ║  ║  ║  ║  ║ └╥┘┌─┐\n",
       "q_7: ─╫──╫──╫──╫──╫──╫──╫─┤M├\n",
       "      ║  ║  ║  ║  ║  ║  ║ └╥┘\n",
       "c: 8/═╩══╩══╩══╩══╩══╩══╩══╩═\n",
       "      0  1  2  3  4  5  6  7 "
      ]
     },
     "execution_count": 9,
     "metadata": {},
     "output_type": "execute_result"
    }
   ],
   "source": [
    "qc_output.draw()"
   ]
  },
  {
   "cell_type": "code",
   "execution_count": 10,
   "id": "b6bbf13c",
   "metadata": {},
   "outputs": [
    {
     "data": {
      "image/png": "[encoded data removed]",
      "text/plain": [
       "<Figure size 504x360 with 1 Axes>"
      ]
     },
     "execution_count": 10,
     "metadata": {},
     "output_type": "execute_result"
    }
   ],
   "source": [
    "sim = Aer.get_backend('qasm_simulator')\n",
    "qobj = assemble(qc_output)\n",
    "result = sim.run(qobj).result()\n",
    "counts = result.get_counts()\n",
    "plot_histogram(counts)"
   ]
  },
  {
   "cell_type": "code",
   "execution_count": 17,
   "id": "11acf1a9",
   "metadata": {},
   "outputs": [
    {
     "data": {
      "text/html": [
       "<pre style=\"word-wrap: normal;white-space: pre;background: #fff0;line-height: 1.1;font-family: &quot;Courier New&quot;,Courier,monospace\">          \n",
       "q_0: ─────\n",
       "     ┌───┐\n",
       "q_1: ┤ X ├\n",
       "     └───┘\n",
       "q_2: ─────\n",
       "          \n",
       "q_3: ─────\n",
       "          \n",
       "q_4: ─────\n",
       "     ┌───┐\n",
       "q_5: ┤ X ├\n",
       "     └───┘\n",
       "q_6: ─────\n",
       "          \n",
       "q_7: ─────\n",
       "          </pre>"
      ],
      "text/plain": [
       "          \n",
       "q_0: ─────\n",
       "     ┌───┐\n",
       "q_1: ┤ X ├\n",
       "     └───┘\n",
       "q_2: ─────\n",
       "          \n",
       "q_3: ─────\n",
       "          \n",
       "q_4: ─────\n",
       "     ┌───┐\n",
       "q_5: ┤ X ├\n",
       "     └───┘\n",
       "q_6: ─────\n",
       "          \n",
       "q_7: ─────\n",
       "          "
      ]
     },
     "execution_count": 17,
     "metadata": {},
     "output_type": "execute_result"
    }
   ],
   "source": [
    "\"\"\"qc_encode = QuantumCircuit(n)\n",
    "qc_encode.x(7)\n",
    "qc_encode.draw()\"\"\"\n",
    "qc_encode = QuantumCircuit(n)\n",
    "qc_encode.x(1)\n",
    "qc_encode.x(5)\n",
    "qc_encode.draw()"
   ]
  },
  {
   "cell_type": "code",
   "execution_count": 18,
   "id": "49101e21",
   "metadata": {},
   "outputs": [
    {
     "data": {
      "text/html": [
       "<pre style=\"word-wrap: normal;white-space: pre;background: #fff0;line-height: 1.1;font-family: &quot;Courier New&quot;,Courier,monospace\">          ┌─┐                  \n",
       "q_0: ─────┤M├──────────────────\n",
       "     ┌───┐└╥┘            ┌─┐   \n",
       "q_1: ┤ X ├─╫─────────────┤M├───\n",
       "     └───┘ ║ ┌─┐         └╥┘   \n",
       "q_2: ──────╫─┤M├──────────╫────\n",
       "           ║ └╥┘┌─┐       ║    \n",
       "q_3: ──────╫──╫─┤M├───────╫────\n",
       "           ║  ║ └╥┘┌─┐    ║    \n",
       "q_4: ──────╫──╫──╫─┤M├────╫────\n",
       "     ┌───┐ ║  ║  ║ └╥┘    ║ ┌─┐\n",
       "q_5: ┤ X ├─╫──╫──╫──╫─────╫─┤M├\n",
       "     └┬─┬┘ ║  ║  ║  ║     ║ └╥┘\n",
       "q_6: ─┤M├──╫──╫──╫──╫─────╫──╫─\n",
       "      └╥┘  ║  ║  ║  ║ ┌─┐ ║  ║ \n",
       "q_7: ──╫───╫──╫──╫──╫─┤M├─╫──╫─\n",
       "       ║   ║  ║  ║  ║ └╥┘ ║  ║ \n",
       "c: 8/══╩═══╩══╩══╩══╩══╩══╩══╩═\n",
       "       6   0  2  3  4  7  1  5 </pre>"
      ],
      "text/plain": [
       "          ┌─┐                  \n",
       "q_0: ─────┤M├──────────────────\n",
       "     ┌───┐└╥┘            ┌─┐   \n",
       "q_1: ┤ X ├─╫─────────────┤M├───\n",
       "     └───┘ ║ ┌─┐         └╥┘   \n",
       "q_2: ──────╫─┤M├──────────╫────\n",
       "           ║ └╥┘┌─┐       ║    \n",
       "q_3: ──────╫──╫─┤M├───────╫────\n",
       "           ║  ║ └╥┘┌─┐    ║    \n",
       "q_4: ──────╫──╫──╫─┤M├────╫────\n",
       "     ┌───┐ ║  ║  ║ └╥┘    ║ ┌─┐\n",
       "q_5: ┤ X ├─╫──╫──╫──╫─────╫─┤M├\n",
       "     └┬─┬┘ ║  ║  ║  ║     ║ └╥┘\n",
       "q_6: ─┤M├──╫──╫──╫──╫─────╫──╫─\n",
       "      └╥┘  ║  ║  ║  ║ ┌─┐ ║  ║ \n",
       "q_7: ──╫───╫──╫──╫──╫─┤M├─╫──╫─\n",
       "       ║   ║  ║  ║  ║ └╥┘ ║  ║ \n",
       "c: 8/══╩═══╩══╩══╩══╩══╩══╩══╩═\n",
       "       6   0  2  3  4  7  1  5 "
      ]
     },
     "execution_count": 18,
     "metadata": {},
     "output_type": "execute_result"
    }
   ],
   "source": [
    "qc = qc_encode + qc_output\n",
    "qc.draw()"
   ]
  },
  {
   "cell_type": "code",
   "execution_count": 19,
   "id": "a998101e",
   "metadata": {},
   "outputs": [
    {
     "data": {
      "image/png": "[encoded data removed]",
      "text/plain": [
       "<Figure size 504x360 with 1 Axes>"
      ]
     },
     "execution_count": 19,
     "metadata": {},
     "output_type": "execute_result"
    }
   ],
   "source": [
    "qobj = assemble(qc)\n",
    "counts = sim.run(qobj).result().get_counts()\n",
    "plot_histogram(counts)"
   ]
  },
  {
   "cell_type": "code",
   "execution_count": null,
   "id": "6c780e26",
   "metadata": {},
   "outputs": [],
   "source": []
  }
 ],
 "metadata": {
  "kernelspec": {
   "display_name": "Python 3",
   "language": "python",
   "name": "python3"
  },
  "language_info": {
   "codemirror_mode": {
    "name": "ipython",
    "version": 3
   },
   "file_extension": ".py",
   "mimetype": "text/x-python",
   "name": "python",
   "nbconvert_exporter": "python",
   "pygments_lexer": "ipython3",
   "version": "3.8.8"
  }
 },
 "nbformat": 4,
 "nbformat_minor": 5
}
